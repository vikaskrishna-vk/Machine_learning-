{
  "nbformat": 4,
  "nbformat_minor": 0,
  "metadata": {
    "colab": {
      "provenance": [],
      "collapsed_sections": [
        "47oT96RrNi9C",
        "_imrQTbaS1rT",
        "bHDqFTldTiFj",
        "OccPzePWT7x4",
        "6R9ms1QuUal_",
        "QExaey9KU6Xz",
        "K2L103RVvvvx"
      ]
    },
    "kernelspec": {
      "name": "python3",
      "display_name": "Python 3"
    },
    "language_info": {
      "name": "python"
    }
  },
  "cells": [
    {
      "cell_type": "markdown",
      "source": [
        "#Python libraries"
      ],
      "metadata": {
        "id": "uJLuRpTqKwHb"
      }
    },
    {
      "cell_type": "markdown",
      "source": [
        "##Numpy"
      ],
      "metadata": {
        "id": "47oT96RrNi9C"
      }
    },
    {
      "cell_type": "code",
      "source": [
        "import numpy as vk\n",
        "\n",
        "a=vk.array([1,2,3,4,5])\n",
        "b=vk.arange(1,7)\n",
        "c=vk.zeros((5))\n",
        "d=vk.ones((4,3))\n",
        "print(a)\n",
        "print(b)\n",
        "print(c)\n",
        "print(d)\n"
      ],
      "metadata": {
        "colab": {
          "base_uri": "https://localhost:8080/"
        },
        "id": "n05HtrioNnga",
        "outputId": "d2ff42a9-8827-4f0b-c134-f25ff444fbc9"
      },
      "execution_count": 28,
      "outputs": [
        {
          "output_type": "stream",
          "name": "stdout",
          "text": [
            "[1 2 3 4 5]\n",
            "[1 2 3 4 5 6]\n",
            "[0. 0. 0. 0. 0.]\n",
            "[[1. 1. 1.]\n",
            " [1. 1. 1.]\n",
            " [1. 1. 1.]\n",
            " [1. 1. 1.]]\n"
          ]
        }
      ]
    },
    {
      "cell_type": "markdown",
      "source": [
        "###Slicing and Indexing"
      ],
      "metadata": {
        "id": "_imrQTbaS1rT"
      }
    },
    {
      "cell_type": "code",
      "source": [
        "print(\"First element:\",a[0])\n",
        "print(\"Last 2 elements:\",a[-2:])"
      ],
      "metadata": {
        "colab": {
          "base_uri": "https://localhost:8080/"
        },
        "id": "PnhCLbscTKlk",
        "outputId": "638869d7-11ac-426f-e4d5-48d9587b6ac4"
      },
      "execution_count": 29,
      "outputs": [
        {
          "output_type": "stream",
          "name": "stdout",
          "text": [
            "First element: 1\n",
            "Last 2 elements: [4 5]\n"
          ]
        }
      ]
    },
    {
      "cell_type": "markdown",
      "source": [
        "###Arithmetic operations"
      ],
      "metadata": {
        "id": "bHDqFTldTiFj"
      }
    },
    {
      "cell_type": "code",
      "source": [
        "print(\"a+2:\",a+2)\n",
        "print(\"a*2:\",a*2)"
      ],
      "metadata": {
        "colab": {
          "base_uri": "https://localhost:8080/"
        },
        "id": "5-2uWsIbTmkR",
        "outputId": "0ceb7e26-5fcc-4274-d578-083a4b99f6c5"
      },
      "execution_count": 30,
      "outputs": [
        {
          "output_type": "stream",
          "name": "stdout",
          "text": [
            "a+2: [3 4 5 6 7]\n",
            "a*2: [ 2  4  6  8 10]\n"
          ]
        }
      ]
    },
    {
      "cell_type": "markdown",
      "source": [
        "###Basic statistics"
      ],
      "metadata": {
        "id": "OccPzePWT7x4"
      }
    },
    {
      "cell_type": "code",
      "source": [
        "print(\"Square of a:\",vk.square(a))\n",
        "print(\"Mean of a:\",vk.mean(a))\n",
        "print(\"Standard deviation:\",vk.std(a))\n"
      ],
      "metadata": {
        "colab": {
          "base_uri": "https://localhost:8080/"
        },
        "id": "b1ULUiRMT_RI",
        "outputId": "04f2a980-92c4-41bc-aa42-a132e7214c88"
      },
      "execution_count": 31,
      "outputs": [
        {
          "output_type": "stream",
          "name": "stdout",
          "text": [
            "Square of a: [ 1  4  9 16 25]\n",
            "Mean of a: 3.0\n",
            "Standard deviation: 1.4142135623730951\n"
          ]
        }
      ]
    },
    {
      "cell_type": "markdown",
      "source": [
        "###Reshaping arrays"
      ],
      "metadata": {
        "id": "6R9ms1QuUal_"
      }
    },
    {
      "cell_type": "code",
      "source": [
        "mat=vk.arange(1,10).reshape(3,3)\n",
        "print(\"Reshape 3x3 matrix:\")\n",
        "print(mat)"
      ],
      "metadata": {
        "colab": {
          "base_uri": "https://localhost:8080/"
        },
        "id": "YJiFG9JcUiC8",
        "outputId": "a4a905e7-e6e7-4086-ea9c-78a995ab732e"
      },
      "execution_count": 32,
      "outputs": [
        {
          "output_type": "stream",
          "name": "stdout",
          "text": [
            "Reshape 3x3 matrix:\n",
            "[[1 2 3]\n",
            " [4 5 6]\n",
            " [7 8 9]]\n"
          ]
        }
      ]
    },
    {
      "cell_type": "markdown",
      "source": [
        "###Transpose"
      ],
      "metadata": {
        "id": "QExaey9KU6Xz"
      }
    },
    {
      "cell_type": "code",
      "source": [
        "print(\"Transpose:\",mat.T)"
      ],
      "metadata": {
        "colab": {
          "base_uri": "https://localhost:8080/"
        },
        "id": "ajGu-6oxU9Ue",
        "outputId": "944232fa-c082-42bf-8a61-07b7c99088e0"
      },
      "execution_count": 33,
      "outputs": [
        {
          "output_type": "stream",
          "name": "stdout",
          "text": [
            "Transpose: [[1 4 7]\n",
            " [2 5 8]\n",
            " [3 6 9]]\n"
          ]
        }
      ]
    },
    {
      "cell_type": "markdown",
      "source": [
        "###Boolean indexing"
      ],
      "metadata": {
        "id": "7Vj0-oJOVK1O"
      }
    },
    {
      "cell_type": "code",
      "source": [
        "print(\"Elements >5:\",mat[mat>5])"
      ],
      "metadata": {
        "colab": {
          "base_uri": "https://localhost:8080/"
        },
        "id": "P-NkwcrIVOwE",
        "outputId": "c8ff6fc6-72ec-4184-aab0-4c7cac59927a"
      },
      "execution_count": 34,
      "outputs": [
        {
          "output_type": "stream",
          "name": "stdout",
          "text": [
            "Elements >5: [6 7 8 9]\n"
          ]
        }
      ]
    },
    {
      "cell_type": "markdown",
      "source": [
        "#Pandas"
      ],
      "metadata": {
        "id": "WXMB2COvXaT4"
      }
    },
    {
      "cell_type": "code",
      "source": [
        "import pandas as pd\n",
        "\n",
        "data={\n",
        "    'Name':['Pammi','Fear','Charlie','David','Eva'],\n",
        "    'Age':[21,32,25,22,35],\n",
        "    'Department':['Sales','Engineering','HR','Engineering','Sales'],\n",
        "    'Salary':[50000,60000,55000,65000,70000]\n",
        "}\n",
        "df=pd.DataFrame(data)\n",
        "print(df)"
      ],
      "metadata": {
        "id": "CRu3XlCmZSJQ",
        "colab": {
          "base_uri": "https://localhost:8080/"
        },
        "outputId": "6d66786b-fb9a-4ad7-8bad-3a26c3d3d3a6"
      },
      "execution_count": 35,
      "outputs": [
        {
          "output_type": "stream",
          "name": "stdout",
          "text": [
            "      Name  Age   Department  Salary\n",
            "0    Pammi   21        Sales   50000\n",
            "1     Fear   32  Engineering   60000\n",
            "2  Charlie   25           HR   55000\n",
            "3    David   22  Engineering   65000\n",
            "4      Eva   35        Sales   70000\n"
          ]
        }
      ]
    },
    {
      "cell_type": "markdown",
      "source": [
        "###Basic operations"
      ],
      "metadata": {
        "id": "nKBLwJKfbU2n"
      }
    },
    {
      "cell_type": "code",
      "source": [
        "print(\"First 3 rows:\",df.head(3))"
      ],
      "metadata": {
        "colab": {
          "base_uri": "https://localhost:8080/"
        },
        "id": "egM5fnFqbX3B",
        "outputId": "01e47796-751b-4912-e52d-7fa7c37185e7"
      },
      "execution_count": 36,
      "outputs": [
        {
          "output_type": "stream",
          "name": "stdout",
          "text": [
            "First 3 rows:       Name  Age   Department  Salary\n",
            "0    Pammi   21        Sales   50000\n",
            "1     Fear   32  Engineering   60000\n",
            "2  Charlie   25           HR   55000\n"
          ]
        }
      ]
    },
    {
      "cell_type": "code",
      "source": [
        "print(\"column names:\",df.columns)"
      ],
      "metadata": {
        "colab": {
          "base_uri": "https://localhost:8080/"
        },
        "id": "FatF3IUnb7Lz",
        "outputId": "cc38c594-7473-4e63-d787-677de7b0de99"
      },
      "execution_count": 37,
      "outputs": [
        {
          "output_type": "stream",
          "name": "stdout",
          "text": [
            "column names: Index(['Name', 'Age', 'Department', 'Salary'], dtype='object')\n"
          ]
        }
      ]
    },
    {
      "cell_type": "code",
      "source": [
        "print(\"Data types;\",df.dtypes)"
      ],
      "metadata": {
        "colab": {
          "base_uri": "https://localhost:8080/"
        },
        "id": "hfRE6Q-bcHPg",
        "outputId": "984f997d-ce77-46fa-94f1-c9efa168a51c"
      },
      "execution_count": 38,
      "outputs": [
        {
          "output_type": "stream",
          "name": "stdout",
          "text": [
            "Data types; Name          object\n",
            "Age            int64\n",
            "Department    object\n",
            "Salary         int64\n",
            "dtype: object\n"
          ]
        }
      ]
    },
    {
      "cell_type": "code",
      "source": [
        "print(\"Numeric columns:\",df.describe())"
      ],
      "metadata": {
        "colab": {
          "base_uri": "https://localhost:8080/"
        },
        "id": "VqMqU80KcWy_",
        "outputId": "540974c6-19bf-4bd2-b91a-f845028c5328"
      },
      "execution_count": 39,
      "outputs": [
        {
          "output_type": "stream",
          "name": "stdout",
          "text": [
            "Numeric columns:              Age       Salary\n",
            "count   5.000000      5.00000\n",
            "mean   27.000000  60000.00000\n",
            "std     6.204837   7905.69415\n",
            "min    21.000000  50000.00000\n",
            "25%    22.000000  55000.00000\n",
            "50%    25.000000  60000.00000\n",
            "75%    32.000000  65000.00000\n",
            "max    35.000000  70000.00000\n"
          ]
        }
      ]
    },
    {
      "cell_type": "markdown",
      "source": [
        "###Filtering"
      ],
      "metadata": {
        "id": "be9KcFo0dEsY"
      }
    },
    {
      "cell_type": "code",
      "source": [
        "print(\"People with salary>55000\",df[df['Salary']>55000])"
      ],
      "metadata": {
        "colab": {
          "base_uri": "https://localhost:8080/"
        },
        "id": "oEVgt-Racgkn",
        "outputId": "36600a7e-2c75-4966-e18d-68760cfc7faf"
      },
      "execution_count": 40,
      "outputs": [
        {
          "output_type": "stream",
          "name": "stdout",
          "text": [
            "People with salary>55000     Name  Age   Department  Salary\n",
            "1   Fear   32  Engineering   60000\n",
            "3  David   22  Engineering   65000\n",
            "4    Eva   35        Sales   70000\n"
          ]
        }
      ]
    },
    {
      "cell_type": "markdown",
      "source": [
        "###Sorting"
      ],
      "metadata": {
        "id": "kU4Z00dYdKBg"
      }
    },
    {
      "cell_type": "code",
      "source": [
        "print(\"Sorted by age:\",df.sort_values(by=\"Age\"))"
      ],
      "metadata": {
        "colab": {
          "base_uri": "https://localhost:8080/"
        },
        "id": "RsBzq5etdBOB",
        "outputId": "a6fdcfed-8606-4a41-da6f-3fe1b99fb41f"
      },
      "execution_count": 41,
      "outputs": [
        {
          "output_type": "stream",
          "name": "stdout",
          "text": [
            "Sorted by age:       Name  Age   Department  Salary\n",
            "0    Pammi   21        Sales   50000\n",
            "3    David   22  Engineering   65000\n",
            "2  Charlie   25           HR   55000\n",
            "1     Fear   32  Engineering   60000\n",
            "4      Eva   35        Sales   70000\n"
          ]
        }
      ]
    },
    {
      "cell_type": "markdown",
      "source": [
        "###Grouping and Aggregation"
      ],
      "metadata": {
        "id": "eE-3P42ndZ5O"
      }
    },
    {
      "cell_type": "code",
      "source": [
        "grouped=df.groupby('Department')['Salary'].mean()\n",
        "print(\"Average salary by department:\",grouped)"
      ],
      "metadata": {
        "colab": {
          "base_uri": "https://localhost:8080/"
        },
        "id": "fkBh4F6SeeRe",
        "outputId": "dc8af7f5-6d0a-49cd-8b10-26dc2c76c94d"
      },
      "execution_count": 42,
      "outputs": [
        {
          "output_type": "stream",
          "name": "stdout",
          "text": [
            "Average salary by department: Department\n",
            "Engineering    62500.0\n",
            "HR             55000.0\n",
            "Sales          60000.0\n",
            "Name: Salary, dtype: float64\n"
          ]
        }
      ]
    },
    {
      "cell_type": "markdown",
      "source": [
        "###Adding new columns"
      ],
      "metadata": {
        "id": "FRofg4mQetV2"
      }
    },
    {
      "cell_type": "code",
      "source": [
        "df['Salary in lakhs']=df['Salary']/100000\n",
        "print(df)"
      ],
      "metadata": {
        "colab": {
          "base_uri": "https://localhost:8080/"
        },
        "id": "P9zkPXwpesjI",
        "outputId": "381a8e60-c4fd-491d-bcd2-92b10743a6ff"
      },
      "execution_count": 43,
      "outputs": [
        {
          "output_type": "stream",
          "name": "stdout",
          "text": [
            "      Name  Age   Department  Salary  Salary in lakhs\n",
            "0    Pammi   21        Sales   50000             0.50\n",
            "1     Fear   32  Engineering   60000             0.60\n",
            "2  Charlie   25           HR   55000             0.55\n",
            "3    David   22  Engineering   65000             0.65\n",
            "4      Eva   35        Sales   70000             0.70\n"
          ]
        }
      ]
    },
    {
      "cell_type": "markdown",
      "source": [
        "#Matplotlib"
      ],
      "metadata": {
        "id": "K2L103RVvvvx"
      }
    },
    {
      "cell_type": "markdown",
      "source": [
        "###Lineplot"
      ],
      "metadata": {
        "id": "3aZRL2O2fTvo"
      }
    },
    {
      "cell_type": "code",
      "source": [
        "import matplotlib.pyplot as plt\n",
        "\n",
        "years=[2010,2011,2012,2013,2014,2015,2016,2017,2018,2019]\n",
        "revenue=[10000,12000,15000,18000,20000,22000,25000,28000,30000,35000]\n",
        "\n",
        "plt.plot(years,revenue,marker='o',linestyle='-',color='red')\n",
        "plt.xlabel('Years')\n",
        "plt.ylabel('Revenue')\n",
        "plt.xticks(years)\n",
        "plt.grid(True)\n",
        "plt.title('Revenue Over Years')\n",
        "plt.show()"
      ],
      "metadata": {
        "id": "oGubH0lOvzTU",
        "outputId": "b7ee9ed8-ac1a-4029-f498-e9c867bebb9b",
        "colab": {
          "base_uri": "https://localhost:8080/",
          "height": 54
        }
      },
      "execution_count": 44,
      "outputs": [
        {
          "output_type": "display_data",
          "data": {
            "text/plain": [
              "<Figure size 640x480 with 1 Axes>"
            ],
            "image/png": "[encoded data removed]"
          },
          "metadata": {}
        }
      ]
    },
    {
      "cell_type": "markdown",
      "source": [
        "###Barchart"
      ],
      "metadata": {
        "id": "vMNEeP5BfWuc"
      }
    },
    {
      "cell_type": "code",
      "source": [
        "departments=df['Department'].value_counts()\n",
        "departments.plot(kind='bar',color='blue')\n",
        "plt.xlabel('Department')\n",
        "plt.ylabel('Count')\n",
        "plt.title('Department Distribution')\n",
        "plt.show()"
      ],
      "metadata": {
        "colab": {
          "base_uri": "https://localhost:8080/",
          "height": 54
        },
        "id": "l_QA9Sb6fbXq",
        "outputId": "26bb187f-0b86-41ea-a894-3f4dd13a078e"
      },
      "execution_count": 45,
      "outputs": [
        {
          "output_type": "display_data",
          "data": {
            "text/plain": [
              "<Figure size 640x480 with 1 Axes>"
            ],
            "image/png": "[encoded data removed]"
          },
          "metadata": {}
        }
      ]
    },
    {
      "cell_type": "markdown",
      "source": [
        "###Histogram"
      ],
      "metadata": {
        "id": "lhVQdKDgf1Mx"
      }
    },
    {
      "cell_type": "code",
      "source": [
        "ages=df['Age']\n",
        "plt.hist(ages,bins=5,color='green',edgecolor='black')\n",
        "plt.xlabel('Age')\n",
        "plt.ylabel('Frequency')\n",
        "plt.title('Age Distribution')\n",
        "plt.show()"
      ],
      "metadata": {
        "id": "s-Ph6bCsf5SN",
        "outputId": "0c6d072f-57a8-4f6f-b6d1-e8b9f22c2d79",
        "colab": {
          "base_uri": "https://localhost:8080/",
          "height": 54
        }
      },
      "execution_count": 46,
      "outputs": [
        {
          "output_type": "display_data",
          "data": {
            "text/plain": [
              "<Figure size 640x480 with 1 Axes>"
            ],
            "image/png": "[encoded data removed]"
          },
          "metadata": {}
        }
      ]
    },
    {
      "cell_type": "markdown",
      "source": [
        "###Pie chart"
      ],
      "metadata": {
        "id": "OFoMEbtXhHXD"
      }
    },
    {
      "cell_type": "code",
      "source": [
        "df.groupby('Department').size().plot(kind='pie',autopct='%1.1f%%')\n",
        "plt.title('Department Distribution')\n",
        "plt.show()"
      ],
      "metadata": {
        "colab": {
          "base_uri": "https://localhost:8080/",
          "height": 54
        },
        "id": "cqTgXgjghLRt",
        "outputId": "5c3e573e-f07e-4f5b-9cb3-22d4c70e5659"
      },
      "execution_count": 47,
      "outputs": [
        {
          "output_type": "display_data",
          "data": {
            "text/plain": [
              "<Figure size 640x480 with 1 Axes>"
            ],
            "image/png": "[encoded data removed]"
          },
          "metadata": {}
        }
      ]
    }
  ]
}